{
  "nbformat": 4,
  "nbformat_minor": 0,
  "metadata": {
    "colab": {
      "provenance": [],
      "authorship_tag": "ABX9TyOCIPh5/RRhwxGDg70IVl65",
      "include_colab_link": true
    },
    "kernelspec": {
      "name": "python3",
      "display_name": "Python 3"
    },
    "language_info": {
      "name": "python"
    }
  },
  "cells": [
    {
      "cell_type": "markdown",
      "metadata": {
        "id": "view-in-github",
        "colab_type": "text"
      },
      "source": [
        "<a href=\"https://colab.research.google.com/github/SULTHANA9700/-Single-Circular-Linked-List/blob/main/Artificial_Intelligence_Lab.ipynb\" target=\"_parent\"><img src=\"https://colab.research.google.com/assets/colab-badge.svg\" alt=\"Open In Colab\"/></a>"
      ]
    },
    {
      "cell_type": "markdown",
      "source": [
        "**BFS**"
      ],
      "metadata": {
        "id": "1KMYbZvB8QJm"
      }
    },
    {
      "cell_type": "code",
      "execution_count": 1,
      "metadata": {
        "colab": {
          "base_uri": "https://localhost:8080/"
        },
        "id": "XkkxavhE5lFZ",
        "outputId": "a3f1e85d-72fb-4b9f-d3b9-86608ffcdec2"
      },
      "outputs": [
        {
          "output_type": "stream",
          "name": "stdout",
          "text": [
            "enter the goal statej\n",
            "enter the roota\n",
            "['a'] []\n",
            "['b', 'c', 'd'] ['a']\n",
            "['c', 'd', 'e', 'f'] ['a', 'b']\n",
            "['d', 'e', 'f', 'g'] ['a', 'b', 'c']\n",
            "['e', 'f', 'g'] ['a', 'b', 'c', 'd']\n",
            "['f', 'g', 'h', 'i'] ['a', 'b', 'c', 'd', 'e']\n",
            "['g', 'h', 'i', 'j'] ['a', 'b', 'c', 'd', 'e', 'f']\n",
            "['h', 'i', 'j'] ['a', 'b', 'c', 'd', 'e', 'f', 'g']\n",
            "['i', 'j'] ['a', 'b', 'c', 'd', 'e', 'f', 'g', 'h']\n",
            "['j'] ['a', 'b', 'c', 'd', 'e', 'f', 'g', 'h', 'i']\n",
            "[] ['a', 'b', 'c', 'd', 'e', 'f', 'g', 'h', 'i', 'j']\n"
          ]
        }
      ],
      "source": [
        "gra={'a':['b','c','d'],'b':['e','f'],'c':['f','g'],'d':[],'e':['h','i'],'f':['j'],'g':[],'h':[],'i':[],'j':[]}\n",
        "go=input(\"enter the goal state\")\n",
        "init1=input(\"enter the root\")\n",
        "n=len(gra)\n",
        "o=[]\n",
        "c=[]\n",
        "o.append(init1)\n",
        "def bfs(o,c,init1,n):\n",
        "  while(n>0):\n",
        "    n1=o[0]\n",
        "    l=len(gra[n1])\n",
        "    print(o,c)\n",
        "    c.append(o[0])\n",
        "    o.pop(0)\n",
        "    for i in range(0,l):\n",
        "      if(gra[n1][i] not in o):\n",
        "        o.append(gra[n1][i])\n",
        "    if(n1==go):\n",
        "      n=-1\n",
        "      print(o,c)\n",
        "  if(n!=-1):\n",
        "     print(\"goal state is not present\")\n",
        "     print(o,c)\n",
        "bfs(o,c,init1,n)\n"
      ]
    },
    {
      "cell_type": "markdown",
      "source": [
        "**DFS**"
      ],
      "metadata": {
        "id": "G7JrQ2XI8XnN"
      }
    },
    {
      "cell_type": "code",
      "source": [
        "graph = {\n",
        "  '5' : ['3','7'],\n",
        "  '3' : ['2', '4'],\n",
        "  '7' : ['8'],\n",
        "  '2' : [],\n",
        "  '4' : ['8'],\n",
        "  '8' : [] }\n",
        "visited = set()\n",
        "def dfs(visited, graph, node):\n",
        "    if node not in visited:\n",
        "        print (node)\n",
        "        visited.add(node)\n",
        "        for neighbour in graph[node]:\n",
        "            dfs(visited, graph, neighbour)\n",
        "print(\"Following is the Depth-First Search\")\n",
        "dfs(visited, graph, '5')\n"
      ],
      "metadata": {
        "colab": {
          "base_uri": "https://localhost:8080/"
        },
        "id": "omHnl81a5vxn",
        "outputId": "4595156f-e9a6-4a19-a269-558ddbe6efe4"
      },
      "execution_count": 4,
      "outputs": [
        {
          "output_type": "stream",
          "name": "stdout",
          "text": [
            "Following is the Depth-First Search\n",
            "5\n",
            "3\n",
            "2\n",
            "4\n",
            "8\n",
            "7\n"
          ]
        }
      ]
    },
    {
      "cell_type": "markdown",
      "source": [
        "**UNIFORM COST SEARCH**"
      ],
      "metadata": {
        "id": "UABv5Q1P8ay8"
      }
    },
    {
      "cell_type": "code",
      "source": [
        "from queue import PriorityQueue\n",
        "gr={'a':{'b':3,'c':2},'b':{'d':6,'e':5,'a':3},'c':{'f':5,'a':2},'f':{'g':2,'c':5},'e':{'b':5},'g':{'f':2},'d':{'b':6}}\n",
        "parent={'a':[]}\n",
        "close=[]\n",
        "path=[]\n",
        "def backtrack(now,cost):\n",
        "  if(cost<0):\n",
        "    return\n",
        "  if(cost==0):\n",
        "    path.append(now)\n",
        "    print(path)\n",
        "    return\n",
        "  close.append(now)\n",
        "  path.append(now)\n",
        "  for i in parent[now]:\n",
        "    if i not in close:\n",
        "      backtrack(i,cost-gr[now][i])\n",
        "  return\n",
        "\n",
        "def bestfirst(gr,goal):\n",
        "    open_list=PriorityQueue()\n",
        "    closed_list=[]\n",
        "    open_list.put((0,'a'))\n",
        "    while open_list.empty()==False:\n",
        "        cost,now=open_list.get()\n",
        "        if now==goal:\n",
        "            print(\"min cost required is\",cost)\n",
        "            backtrack(goal,cost);\n",
        "            break\n",
        "        closed_list.append(now)\n",
        "        for edge in gr[now].keys():\n",
        "            if edge not in closed_list:\n",
        "                open_list.put((cost+gr[now][edge],edge))\n",
        "                if edge not in parent.keys():\n",
        "                  parent[edge]=[now]\n",
        "                else:\n",
        "                  parent[edge].append(now)\n",
        "bestfirst(gr,'g')\n"
      ],
      "metadata": {
        "colab": {
          "base_uri": "https://localhost:8080/"
        },
        "id": "xLAXyMCJ6GYW",
        "outputId": "14d4bc62-c9ef-4aa4-a7a8-62a05758f815"
      },
      "execution_count": 5,
      "outputs": [
        {
          "output_type": "stream",
          "name": "stdout",
          "text": [
            "min cost required is 9\n",
            "['g', 'f', 'c', 'a']\n"
          ]
        }
      ]
    },
    {
      "cell_type": "markdown",
      "source": [
        "**DEPTH FIRST ITERATIVE DEEPENING**"
      ],
      "metadata": {
        "id": "gej479P48eaM"
      }
    },
    {
      "cell_type": "code",
      "source": [
        "goal=(input(\"enter the goal node\"))\n",
        "croot=(input(\"enter the root node\"))\n",
        "maxdepth=int(input(\"enter the max depth\"))\n",
        "path=[]\n",
        "def dfs(croot,goal,graph,maxdepth,path):\n",
        "  path.append(croot)\n",
        "  if croot==goal:\n",
        "    return True\n",
        "  if maxdepth<=0:\n",
        "    return False\n",
        "  for i in graph[croot]:\n",
        "    if(dfs(i,goal,graph,maxdepth-1,path)):\n",
        "      return True\n",
        "def iterative(croot,goal,graph,maxdepth,path):\n",
        "  for i in range(0,maxdepth):\n",
        "    if(dfs(croot,goal,graph,i,path)):\n",
        "      return True\n",
        "if iterative(croot,goal,d,maxdepth,path):\n",
        "  print(\"path found\")\n",
        "  print(path)\n",
        "else:\n",
        "  print(\"path not found\")\n",
        "  print(path)\n"
      ],
      "metadata": {
        "colab": {
          "base_uri": "https://localhost:8080/",
          "height": 299
        },
        "id": "ZwGoDolB6K2d",
        "outputId": "20d2dfbb-77c9-45ad-c09b-9399fe4a66e4"
      },
      "execution_count": 6,
      "outputs": [
        {
          "name": "stdout",
          "output_type": "stream",
          "text": [
            "enter the goal nodeH\n",
            "enter the root nodeA\n",
            "enter the max depth3\n"
          ]
        },
        {
          "output_type": "error",
          "ename": "NameError",
          "evalue": "ignored",
          "traceback": [
            "\u001b[0;31m---------------------------------------------------------------------------\u001b[0m",
            "\u001b[0;31mNameError\u001b[0m                                 Traceback (most recent call last)",
            "\u001b[0;32m<ipython-input-6-6abb79067581>\u001b[0m in \u001b[0;36m<cell line: 18>\u001b[0;34m()\u001b[0m\n\u001b[1;32m     16\u001b[0m     \u001b[0;32mif\u001b[0m\u001b[0;34m(\u001b[0m\u001b[0mdfs\u001b[0m\u001b[0;34m(\u001b[0m\u001b[0mcroot\u001b[0m\u001b[0;34m,\u001b[0m\u001b[0mgoal\u001b[0m\u001b[0;34m,\u001b[0m\u001b[0mgraph\u001b[0m\u001b[0;34m,\u001b[0m\u001b[0mi\u001b[0m\u001b[0;34m,\u001b[0m\u001b[0mpath\u001b[0m\u001b[0;34m)\u001b[0m\u001b[0;34m)\u001b[0m\u001b[0;34m:\u001b[0m\u001b[0;34m\u001b[0m\u001b[0;34m\u001b[0m\u001b[0m\n\u001b[1;32m     17\u001b[0m       \u001b[0;32mreturn\u001b[0m \u001b[0;32mTrue\u001b[0m\u001b[0;34m\u001b[0m\u001b[0;34m\u001b[0m\u001b[0m\n\u001b[0;32m---> 18\u001b[0;31m \u001b[0;32mif\u001b[0m \u001b[0miterative\u001b[0m\u001b[0;34m(\u001b[0m\u001b[0mcroot\u001b[0m\u001b[0;34m,\u001b[0m\u001b[0mgoal\u001b[0m\u001b[0;34m,\u001b[0m\u001b[0md\u001b[0m\u001b[0;34m,\u001b[0m\u001b[0mmaxdepth\u001b[0m\u001b[0;34m,\u001b[0m\u001b[0mpath\u001b[0m\u001b[0;34m)\u001b[0m\u001b[0;34m:\u001b[0m\u001b[0;34m\u001b[0m\u001b[0;34m\u001b[0m\u001b[0m\n\u001b[0m\u001b[1;32m     19\u001b[0m   \u001b[0mprint\u001b[0m\u001b[0;34m(\u001b[0m\u001b[0;34m\"path found\"\u001b[0m\u001b[0;34m)\u001b[0m\u001b[0;34m\u001b[0m\u001b[0;34m\u001b[0m\u001b[0m\n\u001b[1;32m     20\u001b[0m   \u001b[0mprint\u001b[0m\u001b[0;34m(\u001b[0m\u001b[0mpath\u001b[0m\u001b[0;34m)\u001b[0m\u001b[0;34m\u001b[0m\u001b[0;34m\u001b[0m\u001b[0m\n",
            "\u001b[0;31mNameError\u001b[0m: name 'd' is not defined"
          ]
        }
      ]
    },
    {
      "cell_type": "markdown",
      "source": [
        "**BI DIRECTIONAL**"
      ],
      "metadata": {
        "id": "HFTwUOvC8lGF"
      }
    },
    {
      "cell_type": "code",
      "source": [
        "gr={0:[5,1,2,11],5:[0,6,7],1:[7,0,3],7:[8,1],3:[9,4,1],2:[0,10,12],11:[0],6:[5],8:[7],9:[3],4:[3],10:[2],12:[2]}\n",
        "open_list1=[]\n",
        "closed_list1=[]\n",
        "def bfs(gr,open_list,closed_list):\n",
        "    now=open_list[0]\n",
        "    open_list.remove(now)\n",
        "    if(now not in gr.keys()):\n",
        "        closed_list.append(now)\n",
        "    if now not in closed_list:\n",
        "        temp=gr[now]\n",
        "        for i in temp:\n",
        "            if i not in open_list:\n",
        "                open_list.append(i)\n",
        "        closed_list.append(now)\n",
        "open_list2=[]\n",
        "closed_list2=[]\n",
        "open_list1.append(5)\n",
        "open_list2.append(4)\n",
        "def intersection_list(list1, list2):\n",
        "   list3 = [value for value in list1 if value in list2]\n",
        "   return list3\n",
        "def intersection(l1,l2):\n",
        "    if len(intersection_list(l1, l2)):\n",
        "        return True\n",
        "    return False\n",
        "while(not intersection(open_list1,open_list2)):\n",
        "    bfs(gr,open_list1,closed_list1)\n",
        "    bfs(gr,open_list2,closed_list2)\n",
        "print(intersection_list(open_list1, open_list2))\n"
      ],
      "metadata": {
        "colab": {
          "base_uri": "https://localhost:8080/"
        },
        "id": "7BA4hutP6Nwt",
        "outputId": "349b8610-13cd-402a-e737-df031238ffe3"
      },
      "execution_count": 7,
      "outputs": [
        {
          "output_type": "stream",
          "name": "stdout",
          "text": [
            "[1]\n"
          ]
        }
      ]
    },
    {
      "cell_type": "markdown",
      "source": [
        "**WATER JUG USING BFS**"
      ],
      "metadata": {
        "id": "LeOFAgZ-8rW0"
      }
    },
    {
      "cell_type": "code",
      "source": [
        "def bfs(start,dest,j1,j2):\n",
        "    o_l=[]\n",
        "    o_l.append(start)\n",
        "    c_l=[]\n",
        "    path=[]\n",
        "    while o_l:\n",
        "        s=o_l.pop(0)\n",
        "        path.append(s)\n",
        "        x=s[0]\n",
        "        y=s[1]\n",
        "        if x==dest[0] and y==dest[1]:\n",
        "            print(\"path found\")\n",
        "            return path\n",
        "        c_l.append([s[0],s[1]])\n",
        "        #rule1\n",
        "        if s[0]<j1 and ([j1,s[1]] not in c_l):\n",
        "            o_l.append([j1,s[1]])\n",
        "            c_l.append([j1,s[1]])\n",
        "        #rule2\n",
        "        if s[1]<j2 and ([s[0],j2] not in c_l):\n",
        "            o_l.append([s[0],j2])\n",
        "            c_l.append([s[0],j2])\n",
        "        #rule3\n",
        "        if s[0]>0 and ([0,s[1]] not in c_l):\n",
        "            o_l.append([0,s[1]])\n",
        "            c_l.append([0,s[1]])\n",
        "        #rule4\n",
        "        if s[1]>0 and ([s[0],0] not in c_l):\n",
        "            o_l.append([s[0],0])\n",
        "            c_l.append([s[0],0])\n",
        "        #rule5\n",
        "        if (s[0]+s[1])<=j1 and s[0]>=0 and ([s[0]+s[1],0] not in c_l):\n",
        "            o_l.append([s[0]+s[1],0])\n",
        "            c_l.append([s[0]+s[1],0])\n",
        "        #rule6\n",
        "        if (s[0]+s[1])<=j2 and s[0]>0 and ([0,s[0]+s[1]] not in c_l):\n",
        "            o_l.append([0,s[0]+s[1]])\n",
        "            c_l.append([0,s[0]+s[1]])\n",
        "        #rule7\n",
        "        if (s[0]+s[1])>=j1 and s[1]>=0 and ([j1,s[1]-(j1-s[0])] not in c_l):\n",
        "            o_l.append([j1,s[1]-(j1-s[0])])\n",
        "            c_l.append([j1,s[1]-(j1-s[0])])\n",
        "        #rule8\n",
        "        if (s[0]+s[1])>=j2 and s[0]>0 and ([s[0]-(j2-s[1]),j2] not in c_l):\n",
        "            o_l.append([s[0]-(j2-s[1]),j2])\n",
        "            c_l.append([s[0]-(j2-s[1]),j2])\n",
        "    return \"no path\"\n",
        "j1=int(input(\"Enter the capacity of jug1\"))\n",
        "j2=int(input(\"Enter the capacity of jug2\"))\n",
        "j=int(input(\"Enter final capacity\"))\n",
        "start=[0,0]\n",
        "dest=[j,0]\n",
        "bfs(start,dest,j1,j2)\n"
      ],
      "metadata": {
        "colab": {
          "base_uri": "https://localhost:8080/"
        },
        "id": "E0Ms168k6o6m",
        "outputId": "7397fefb-d83d-4369-ea72-49ab301dbe2c"
      },
      "execution_count": 10,
      "outputs": [
        {
          "output_type": "stream",
          "name": "stdout",
          "text": [
            "Enter the capacity of jug15\n",
            "Enter the capacity of jug22\n",
            "Enter final capacity3\n",
            "path found\n"
          ]
        },
        {
          "output_type": "execute_result",
          "data": {
            "text/plain": [
              "[[0, 0], [5, 0], [0, 2], [5, 2], [3, 2], [2, 0], [3, 0]]"
            ]
          },
          "metadata": {},
          "execution_count": 10
        }
      ]
    },
    {
      "cell_type": "markdown",
      "source": [
        "**WATER JUG USING DFS**"
      ],
      "metadata": {
        "id": "pmKe9eyt8u9k"
      }
    },
    {
      "cell_type": "code",
      "source": [
        "def dfs(start,dest,j1,j2):\n",
        "    o_l=[]\n",
        "    o_l.append(start)\n",
        "    c_l=[]\n",
        "    path=[]\n",
        "    while o_l:\n",
        "        s=o_l.pop()\n",
        "        path.append(s)\n",
        "        x=s[0]\n",
        "        y=s[1]\n",
        "        if x==dest[0] and y==dest[1]:\n",
        "            print(\"path found\")\n",
        "            return path\n",
        "        c_l.append([s[0],s[1]])\n",
        "        #rule1\n",
        "        if s[0]<j1 and ([j1,s[1]] not in c_l):\n",
        "            o_l.append([j1,s[1]])\n",
        "            c_l.append([j1,s[1]])\n",
        "        #rule2\n",
        "        if s[1]<j2 and ([s[0],j2] not in c_l):\n",
        "            o_l.append([s[0],j2])\n",
        "            c_l.append([s[0],j2])\n",
        "        #rule3\n",
        "        if s[0]>0 and ([0,s[1]] not in c_l):\n",
        "            o_l.append([0,s[1]])\n",
        "            c_l.append([0,s[1]])\n",
        "        #rule4\n",
        "        if s[1]>0 and ([s[0],0] not in c_l):\n",
        "            o_l.append([s[0],0])\n",
        "            c_l.append([s[0],0])\n",
        "        #rule5\n",
        "        if (s[0]+s[1])<=j1 and s[0]>=0 and ([s[0]+s[1],0] not in c_l):\n",
        "            o_l.append([s[0]+s[1],0])\n",
        "            c_l.append([s[0]+s[1],0])\n",
        "        #rule6\n",
        "        if (s[0]+s[1])<=j2 and s[0]>0 and ([0,s[0]+s[1]] not in c_l):\n",
        "            o_l.append([0,s[0]+s[1]])\n",
        "            c_l.append([0,s[0]+s[1]])\n",
        "        #rule7\n",
        "        if (s[0]+s[1])>=j1 and s[1]>=0 and ([j1,s[1]-(j1-s[0])] not in c_l):\n",
        "            o_l.append([j1,s[1]-(j1-s[0])])\n",
        "            c_l.append([j1,s[1]-(j1-s[0])])\n",
        "        #rule8\n",
        "        if (s[0]+s[1])>=j2 and s[0]>0 and ([s[0]-(j2-s[1]),j2] not in c_l):\n",
        "            o_l.append([s[0]-(j2-s[1]),j2])\n",
        "            c_l.append([s[0]-(j2-s[1]),j2])\n",
        "    return \"no path\"\n",
        "j1=int(input(\"Enter the capacity of jug1: \"))\n",
        "j2=int(input(\"Enter the capacity of jug2: \"))\n",
        "j=int(input(\"Enter final capacity\"))\n",
        "start=[0,0]\n",
        "dest=[j,0]\n",
        "dfs(start,dest,j1,j2)\n"
      ],
      "metadata": {
        "colab": {
          "base_uri": "https://localhost:8080/"
        },
        "id": "6qa_IhAw6wG9",
        "outputId": "7cd408cb-0b67-4ef4-92f6-d575b710d70a"
      },
      "execution_count": 11,
      "outputs": [
        {
          "output_type": "stream",
          "name": "stdout",
          "text": [
            "Enter the capacity of jug1: 5\n",
            "Enter the capacity of jug2: 2\n",
            "Enter final capacity3\n",
            "path found\n"
          ]
        },
        {
          "output_type": "execute_result",
          "data": {
            "text/plain": [
              "[[0, 0],\n",
              " [0, 2],\n",
              " [2, 0],\n",
              " [2, 2],\n",
              " [4, 0],\n",
              " [4, 2],\n",
              " [5, 1],\n",
              " [0, 1],\n",
              " [1, 0],\n",
              " [1, 2],\n",
              " [3, 0]]"
            ]
          },
          "metadata": {},
          "execution_count": 11
        }
      ]
    },
    {
      "cell_type": "markdown",
      "source": [
        "**MISSIONARIES AND CANNIBALS USING BFS**"
      ],
      "metadata": {
        "id": "G0p8fo4v810V"
      }
    },
    {
      "cell_type": "code",
      "source": [
        "def left_side(s):\n",
        "    n1 = s[0][0]\n",
        "    m1 = s[0][1]\n",
        "    bl = s[0][2]\n",
        "    n2 = s[1][0]\n",
        "    m2 = s[1][1]\n",
        "    br = s[1][2]\n",
        "    if n1>=2:\n",
        "        if [[n1 - 2, m1, 0], [n2 + 2, m2, 1]] not in close:\n",
        "          open.append([[n1 - 2, m1, 0], [n2 + 2, m2, 1]])\n",
        "          close.append([[n1 - 2, m1, 0], [n2 + 2, m2, 1]])\n",
        "    if m1>=2:\n",
        "        if [[n1, m1 - 2, 0], [n2, m2 + 2, 1]] not in close:\n",
        "          open.append([[n1, m1 - 2, 0], [n2, m2 + 2, 1]])\n",
        "          close.append([[n1, m1 - 2, 0], [n2, m2 + 2, 1]])\n",
        "    if n1>=1:\n",
        "        if [[n1 - 1, m1, 0], [n2 + 1, m2, 1]] not in close:\n",
        "          open.append([[n1 - 1, m1, 0], [n2 + 1, m2, 1]])\n",
        "          close.append([[n1 - 1, m1, 0], [n2 + 1, m2, 1]])\n",
        "    if m1>=1:\n",
        "        if [[n1, m1 - 1, 0], [n2, m2 + 1, 1]] not in close:\n",
        "          open.append([[n1, m1 - 1, 0], [n2, m2 + 1, 1]])\n",
        "          close.append([[n1, m1 - 1, 0], [n2, m2 + 1, 1]])\n",
        "    if n1>=1 and m1>=1:\n",
        "        if [[n1 - 1, m1 - 1, 0], [n2 + 1, m2 + 1, 1]] not in close:\n",
        "          open.append([[n1 - 1, m1 - 1, 0], [n2 + 1, m2 + 1, 1]])\n",
        "          close.append([[n1 - 1, m1 - 1, 0], [n2 + 1, m2 + 1, 1]])\n",
        "def right_side(s):\n",
        "    n1 = s[0][0]\n",
        "    m1 = s[0][1]\n",
        "    bl = s[0][2]\n",
        "    n2 = s[1][0]\n",
        "    m2 = s[1][1]\n",
        "    br = s[1][2]\n",
        "    if n2>=2:\n",
        "        if [[n1 + 2, m1, 1], [n2 - 2, m2, 0]] not in close:\n",
        "          open.append([[n1 + 2, m1, 1], [n2 - 2, m2, 0]])\n",
        "          close.append([[n1 + 2, m1, 1], [n2 - 2, m2, 0]])\n",
        "    if m2>=2:\n",
        "        if [[n1, m1 + 2, 1], [n2, m2 - 2, 0]] not in close:\n",
        "          open.append([[n1, m1 + 2, 1], [n2, m2 - 2, 0]])\n",
        "          close.append([[n1, m1 + 2, 1], [n2, m2 - 2, 0]])\n",
        "    if n2>=1:\n",
        "        if [[n1 + 1, m1, 1], [n2 - 1, m2, 0]] not in close:\n",
        "          open.append([[n1 + 1, m1, 1], [n2 - 1, m2, 0]])\n",
        "          close.append([[n1 + 1, m1, 1], [n2 - 1, m2, 0]])\n",
        "    if m2>=1:\n",
        "        if [[n1, m1 + 1, 1], [n2, m2 - 1, 0]] not in close:\n",
        "          open.append([[n1, m1 + 1, 1], [n2, m2 - 1, 0]])\n",
        "          close.append([[n1, m1 + 1, 1], [n2, m2 - 1, 0]])\n",
        "    if n2>=1 and m2>=1:\n",
        "        if [[n1 + 1, m1 + 1, 1], [n2 - 1, m2 - 1, 0]] not in close:\n",
        "          open.append([[n1 + 1, m1 + 1, 1], [n2 - 1, m2 - 1, 0]])\n",
        "          close.append([[n1 + 1, m1 + 1, 1], [n2 - 1, m2 - 1, 0]])\n",
        "def bfs():\n",
        "    s=open.pop(0)\n",
        "    n1 = s[0][0]\n",
        "    m1 = s[0][1]\n",
        "    bl = s[0][2]\n",
        "    n2 = s[1][0]\n",
        "    m2 = s[1][1]\n",
        "    br = s[1][2]\n",
        "    path.append(s)\n",
        "    if n2==n and m2==m:\n",
        "      print(\"Moved all the missionaries and cannibals to other side\")\n",
        "      return path\n",
        "    close.append(s)\n",
        "    if bl==1:\n",
        "      left_side(s)\n",
        "    if br==1:\n",
        "      right_side(s)\n",
        "    bfs()\n",
        "    return path\n",
        "\n",
        "n=int(input(\"enter no.of missionaries:\"))\n",
        "m=int(input(\"enter no.of cannibals:\"))\n",
        "l=[[n,m,1],[0,0,0]]\n",
        "open=[[[n,m,1],[0,0,0]]]\n",
        "close=[]\n",
        "path=[]\n",
        "bfs()\n"
      ],
      "metadata": {
        "colab": {
          "base_uri": "https://localhost:8080/"
        },
        "id": "74nTL9Sc686F",
        "outputId": "b26b7c1c-6609-4041-b0b1-31b24f02daab"
      },
      "execution_count": 12,
      "outputs": [
        {
          "output_type": "stream",
          "name": "stdout",
          "text": [
            "enter no.of missionaries:3\n",
            "enter no.of cannibals:3\n",
            "Moved all the missionaries and cannibals to other side\n"
          ]
        },
        {
          "output_type": "execute_result",
          "data": {
            "text/plain": [
              "[[[3, 3, 1], [0, 0, 0]],\n",
              " [[1, 3, 0], [2, 0, 1]],\n",
              " [[3, 1, 0], [0, 2, 1]],\n",
              " [[2, 3, 0], [1, 0, 1]],\n",
              " [[3, 2, 0], [0, 1, 1]],\n",
              " [[2, 2, 0], [1, 1, 1]],\n",
              " [[2, 3, 1], [1, 0, 0]],\n",
              " [[3, 2, 1], [0, 1, 0]],\n",
              " [[0, 3, 0], [3, 0, 1]],\n",
              " [[2, 1, 0], [1, 2, 1]],\n",
              " [[1, 2, 0], [2, 1, 1]],\n",
              " [[3, 0, 0], [0, 3, 1]],\n",
              " [[1, 3, 1], [2, 0, 0]],\n",
              " [[3, 1, 1], [0, 2, 0]],\n",
              " [[2, 2, 1], [1, 1, 0]],\n",
              " [[1, 1, 0], [2, 2, 1]],\n",
              " [[0, 2, 0], [3, 1, 1]],\n",
              " [[2, 0, 0], [1, 3, 1]],\n",
              " [[2, 1, 1], [1, 2, 0]],\n",
              " [[1, 2, 1], [2, 1, 0]],\n",
              " [[0, 3, 1], [3, 0, 0]],\n",
              " [[3, 0, 1], [0, 3, 0]],\n",
              " [[0, 1, 0], [3, 2, 1]],\n",
              " [[1, 0, 0], [2, 3, 1]],\n",
              " [[1, 1, 1], [2, 2, 0]],\n",
              " [[0, 2, 1], [3, 1, 0]],\n",
              " [[2, 0, 1], [1, 3, 0]],\n",
              " [[0, 0, 0], [3, 3, 1]]]"
            ]
          },
          "metadata": {},
          "execution_count": 12
        }
      ]
    },
    {
      "cell_type": "markdown",
      "source": [
        "**MISSIONARIES AND CANNIBALS USING DFS**"
      ],
      "metadata": {
        "id": "Yw_w_qro87vE"
      }
    },
    {
      "cell_type": "code",
      "source": [
        "def left_side(s):\n",
        "    n1 = s[0][0]\n",
        "    m1 = s[0][1]\n",
        "    bl = s[0][2]\n",
        "    n2 = s[1][0]\n",
        "    m2 = s[1][1]\n",
        "    br = s[1][2]\n",
        "    if n1>=2:\n",
        "        if [[n1 - 2, m1, 0], [n2 + 2, m2, 1]] not in close:\n",
        "          open.append([[n1 - 2, m1, 0], [n2 + 2, m2, 1]])\n",
        "          close.append([[n1 - 2, m1, 0], [n2 + 2, m2, 1]])\n",
        "    if m1>=2:\n",
        "        if [[n1, m1 - 2, 0], [n2, m2 + 2, 1]] not in close:\n",
        "          open.append([[n1, m1 - 2, 0], [n2, m2 + 2, 1]])\n",
        "          close.append([[n1, m1 - 2, 0], [n2, m2 + 2, 1]])\n",
        "    if n1>=1:\n",
        "        if [[n1 - 1, m1, 0], [n2 + 1, m2, 1]] not in close:\n",
        "          open.append([[n1 - 1, m1, 0], [n2 + 1, m2, 1]])\n",
        "          close.append([[n1 - 1, m1, 0], [n2 + 1, m2, 1]])\n",
        "    if m1>=1:\n",
        "        if [[n1, m1 - 1, 0], [n2, m2 + 1, 1]] not in close:\n",
        "          open.append([[n1, m1 - 1, 0], [n2, m2 + 1, 1]])\n",
        "          close.append([[n1, m1 - 1, 0], [n2, m2 + 1, 1]])\n",
        "    if n1>=1 and m1>=1:\n",
        "        if [[n1 - 1, m1 - 1, 0], [n2 + 1, m2 + 1, 1]] not in close:\n",
        "          open.append([[n1 - 1, m1 - 1, 0], [n2 + 1, m2 + 1, 1]])\n",
        "          close.append([[n1 - 1, m1 - 1, 0], [n2 + 1, m2 + 1, 1]])\n",
        "def right_side(s):\n",
        "    n1 = s[0][0]\n",
        "    m1 = s[0][1]\n",
        "    bl = s[0][2]\n",
        "    n2 = s[1][0]\n",
        "    m2 = s[1][1]\n",
        "    br = s[1][2]\n",
        "    if n2>=2:\n",
        "        if [[n1 + 2, m1, 1], [n2 - 2, m2, 0]] not in close:\n",
        "          open.append([[n1 + 2, m1, 1], [n2 - 2, m2, 0]])\n",
        "          close.append([[n1 + 2, m1, 1], [n2 - 2, m2, 0]])\n",
        "    if m2>=2:\n",
        "        if [[n1, m1 + 2, 1], [n2, m2 - 2, 0]] not in close:\n",
        "          open.append([[n1, m1 + 2, 1], [n2, m2 - 2, 0]])\n",
        "          close.append([[n1, m1 + 2, 1], [n2, m2 - 2, 0]])\n",
        "    if n2>=1:\n",
        "        if [[n1 + 1, m1, 1], [n2 - 1, m2, 0]] not in close:\n",
        "          open.append([[n1 + 1, m1, 1], [n2 - 1, m2, 0]])\n",
        "          close.append([[n1 + 1, m1, 1], [n2 - 1, m2, 0]])\n",
        "    if m2>=1:\n",
        "        if [[n1, m1 + 1, 1], [n2, m2 - 1, 0]] not in close:\n",
        "          open.append([[n1, m1 + 1, 1], [n2, m2 - 1, 0]])\n",
        "          close.append([[n1, m1 + 1, 1], [n2, m2 - 1, 0]])\n",
        "    if n2>=1 and m2>=1:\n",
        "        if [[n1 + 1, m1 + 1, 1], [n2 - 1, m2 - 1, 0]] not in close:\n",
        "          open.append([[n1 + 1, m1 + 1, 1], [n2 - 1, m2 - 1, 0]])\n",
        "          close.append([[n1 + 1, m1 + 1, 1], [n2 - 1, m2 - 1, 0]])\n",
        "def dfs():\n",
        "    s=open.pop()\n",
        "    n1 = s[0][0]\n",
        "    m1 = s[0][1]\n",
        "    bl = s[0][2]\n",
        "    n2 = s[1][0]\n",
        "    m2 = s[1][1]\n",
        "    br = s[1][2]\n",
        "    path.append(s)\n",
        "    if n2==n and m2==m:\n",
        "      print(\"Moved all the missionaries and cannibals to other side\")\n",
        "      return path\n",
        "    close.append(s)\n",
        "    if bl==1:\n",
        "      left_side(s)\n",
        "    if br==1:\n",
        "      right_side(s)\n",
        "    dfs()\n",
        "    return path\n",
        "n=int(input(\"enter no.of missionaries:\"))\n",
        "m=int(input(\"enter no.of cannibals:\"))\n",
        "l=[[n,m,1],[0,0,0]]\n",
        "open=[[[n,m,1],[0,0,0]]]\n",
        "close=[]\n",
        "path=[]\n",
        "dfs()\n"
      ],
      "metadata": {
        "colab": {
          "base_uri": "https://localhost:8080/"
        },
        "id": "744nPThe7CWE",
        "outputId": "9191ce55-ddec-4ad1-af39-b2b1ce70764f"
      },
      "execution_count": 13,
      "outputs": [
        {
          "output_type": "stream",
          "name": "stdout",
          "text": [
            "enter no.of missionaries:3\n",
            "enter no.of cannibals:3\n",
            "Moved all the missionaries and cannibals to other side\n"
          ]
        },
        {
          "output_type": "execute_result",
          "data": {
            "text/plain": [
              "[[[3, 3, 1], [0, 0, 0]],\n",
              " [[2, 2, 0], [1, 1, 1]],\n",
              " [[2, 3, 1], [1, 0, 0]],\n",
              " [[1, 2, 0], [2, 1, 1]],\n",
              " [[1, 3, 1], [2, 0, 0]],\n",
              " [[0, 2, 0], [3, 1, 1]],\n",
              " [[0, 3, 1], [3, 0, 0]],\n",
              " [[0, 1, 0], [3, 2, 1]],\n",
              " [[0, 2, 1], [3, 1, 0]],\n",
              " [[0, 0, 0], [3, 3, 1]]]"
            ]
          },
          "metadata": {},
          "execution_count": 13
        }
      ]
    },
    {
      "cell_type": "markdown",
      "source": [
        "**VACCUM WORLD USING BFS**"
      ],
      "metadata": {
        "id": "QzUnX5lZ9Fck"
      }
    },
    {
      "cell_type": "code",
      "source": [
        "from queue import Queue\n",
        "# Initializing a queue\n",
        "queue = Queue()\n",
        "c=0\n",
        "visited=[[0,0,0,0],[0,0,0,0],[0,0,0,0]]\n",
        "mat=[[1,0,0,0],[0,1,0,1],[1,0,1,1]]\n",
        "queue.put((0,0))\n",
        "while(not queue.empty()):\n",
        "  i,j=queue.get()\n",
        "  if(i<0 or j<0 or i>=len(mat) or j>=len(mat)):\n",
        "    continue\n",
        "  if(visited[i][j]):\n",
        "    continue\n",
        "  visited[i][j]=1\n",
        "  if(mat[i][j]==0):\n",
        "    c+=1\n",
        "  else:\n",
        "    c+=2\n",
        "  mat[i][j]=0\n",
        "  print(mat)\n",
        "  queue.put((i+1,j))\n",
        "  queue.put((i,j+1))\n",
        "  queue.put((i-1,j))\n",
        "  queue.put((i,j-1))\n",
        "print(c-1)\n"
      ],
      "metadata": {
        "colab": {
          "base_uri": "https://localhost:8080/"
        },
        "id": "WagtGwZI7HYE",
        "outputId": "79c60fff-0a09-489e-9eb0-084362e20ff4"
      },
      "execution_count": 14,
      "outputs": [
        {
          "output_type": "stream",
          "name": "stdout",
          "text": [
            "[[0, 0, 0, 0], [0, 1, 0, 1], [1, 0, 1, 1]]\n",
            "[[0, 0, 0, 0], [0, 1, 0, 1], [1, 0, 1, 1]]\n",
            "[[0, 0, 0, 0], [0, 1, 0, 1], [1, 0, 1, 1]]\n",
            "[[0, 0, 0, 0], [0, 1, 0, 1], [0, 0, 1, 1]]\n",
            "[[0, 0, 0, 0], [0, 0, 0, 1], [0, 0, 1, 1]]\n",
            "[[0, 0, 0, 0], [0, 0, 0, 1], [0, 0, 1, 1]]\n",
            "[[0, 0, 0, 0], [0, 0, 0, 1], [0, 0, 1, 1]]\n",
            "[[0, 0, 0, 0], [0, 0, 0, 1], [0, 0, 1, 1]]\n",
            "[[0, 0, 0, 0], [0, 0, 0, 1], [0, 0, 0, 1]]\n",
            "12\n"
          ]
        }
      ]
    },
    {
      "cell_type": "markdown",
      "source": [
        "**VACCUM WORLD USING DFS**"
      ],
      "metadata": {
        "id": "IG-qZ7mL9LSb"
      }
    },
    {
      "cell_type": "code",
      "source": [
        "c=0\n",
        "visited=[[0,0,0,0],[0,0,0,0],[0,0,0,0]]\n",
        "def dfs(mat,i,j):\n",
        "  if(i<0 or j<0 or i>=len(mat) or j>=len(mat[0])):\n",
        "    return\n",
        "  if(visited[i][j]):\n",
        "    return\n",
        "  visited[i][j]=1\n",
        "  global c\n",
        "  if(mat[i][j]==0):\n",
        "    c+=1\n",
        "  else:\n",
        "    c+=2\n",
        "  mat[i][j]=0\n",
        "  print(mat)\n",
        "  dfs(mat,i+1,j)\n",
        "  dfs(mat,i,j+1)\n",
        "  dfs(mat,i-1,j)\n",
        "  dfs(mat,i,j-1)\n",
        "mat=[[1,0,0,0],[0,1,0,1],[1,0,1,1]]\n",
        "dfs(mat,0,0)\n",
        "print(c-1)\n"
      ],
      "metadata": {
        "colab": {
          "base_uri": "https://localhost:8080/"
        },
        "id": "nJq-4Sg17OLc",
        "outputId": "8a92b729-a1fe-4bdd-c76f-02fe2f522df8"
      },
      "execution_count": 15,
      "outputs": [
        {
          "output_type": "stream",
          "name": "stdout",
          "text": [
            "[[0, 0, 0, 0], [0, 1, 0, 1], [1, 0, 1, 1]]\n",
            "[[0, 0, 0, 0], [0, 1, 0, 1], [1, 0, 1, 1]]\n",
            "[[0, 0, 0, 0], [0, 1, 0, 1], [0, 0, 1, 1]]\n",
            "[[0, 0, 0, 0], [0, 1, 0, 1], [0, 0, 1, 1]]\n",
            "[[0, 0, 0, 0], [0, 1, 0, 1], [0, 0, 0, 1]]\n",
            "[[0, 0, 0, 0], [0, 1, 0, 1], [0, 0, 0, 0]]\n",
            "[[0, 0, 0, 0], [0, 1, 0, 0], [0, 0, 0, 0]]\n",
            "[[0, 0, 0, 0], [0, 1, 0, 0], [0, 0, 0, 0]]\n",
            "[[0, 0, 0, 0], [0, 1, 0, 0], [0, 0, 0, 0]]\n",
            "[[0, 0, 0, 0], [0, 1, 0, 0], [0, 0, 0, 0]]\n",
            "[[0, 0, 0, 0], [0, 0, 0, 0], [0, 0, 0, 0]]\n",
            "[[0, 0, 0, 0], [0, 0, 0, 0], [0, 0, 0, 0]]\n",
            "17\n"
          ]
        }
      ]
    },
    {
      "cell_type": "markdown",
      "source": [
        "**GREEDY BEST FIRST SEARCH**"
      ],
      "metadata": {
        "id": "Q7dXCQsl9Nvt"
      }
    },
    {
      "cell_type": "code",
      "source": [
        "from queue import PriorityQueue\n",
        "def greedybestfirstsearch(gr,goal,heuristic):\n",
        "    open_list=PriorityQueue()\n",
        "    closed_list=[]\n",
        "    open_list.put((8,'A',0))\n",
        "    while open_list.empty()==False:\n",
        "        heu_cost,now,cost=open_list.get()\n",
        "        if now==goal:\n",
        "            print(\"min cost required is\",cost)\n",
        "            break\n",
        "        closed_list.append(now)\n",
        "        for edge in gr[now].keys():\n",
        "            if edge not in closed_list:\n",
        "                open_list.put((heuristic[edge],edge,cost+gr[now][edge]))\n",
        "    print(closed_list)\n",
        "graph={'A':{'B':1,'C':2},'B':{'D':7,'E':9,'F':4},'C':{'G':4,'H':3,'I':6,'J':8},'H':{'I':1}}\n",
        "heuristic={'A':8,'B':10,'C':4,'D':15,'E':14,'F':12,'G':7,'H':2,'I':0,'J':4}\n",
        "greedybestfirstsearch(graph,'I',heuristic)\n"
      ],
      "metadata": {
        "colab": {
          "base_uri": "https://localhost:8080/"
        },
        "id": "VQNrVqJD7Rr3",
        "outputId": "ada6cadf-d71c-474f-ce29-712176676b37"
      },
      "execution_count": 16,
      "outputs": [
        {
          "output_type": "stream",
          "name": "stdout",
          "text": [
            "min cost required is 8\n",
            "['A', 'C']\n"
          ]
        }
      ]
    },
    {
      "cell_type": "markdown",
      "source": [
        "**A* ALGORITHM**"
      ],
      "metadata": {
        "id": "owCmVlTC9WD8"
      }
    },
    {
      "cell_type": "code",
      "source": [
        "from queue import PriorityQueue\n",
        "initial=[[1,2,3],[5,6,0],[7,8,4]]\n",
        "goal=[[1,2,3],[5,8,6],[0,7,4]]\n",
        "cost=0\n",
        "open_list=PriorityQueue()\n",
        "closed_list=[]\n",
        "import copy\n",
        "def heuristic(now):\n",
        "  cnt=0\n",
        "  for i in range(len(now)):\n",
        "    for j in range(len(now)):\n",
        "      if now[i][j]!=0 and now[i][j]!=goal[i][j]:\n",
        "        cnt+=1\n",
        "  return cnt+cost\n",
        "def up(nw,i,j):\n",
        "  now=copy.deepcopy(nw)\n",
        "  temp=now[i-1][j]\n",
        "  now[i-1][j]=now[i][j]\n",
        "  now[i][j]=temp\n",
        "  open_list.put((heuristic(now),now))\n",
        "def down(nw,i,j):\n",
        "  #print(\"down\")\n",
        "  now=copy.deepcopy(nw)\n",
        "  temp=now[i+1][j]\n",
        "  now[i+1][j]=now[i][j]\n",
        "  now[i][j]=temp\n",
        "  open_list.put((heuristic(now),now))\n",
        "def left(nw,i,j):\n",
        "  #print(\"left\")\n",
        "  now=copy.deepcopy(nw)\n",
        "  temp=now[i][j-1]\n",
        "  now[i][j-1]=now[i][j]\n",
        "  now[i][j]=temp\n",
        "  open_list.put((heuristic(now),now))\n",
        "def right(nw,i,j):\n",
        "  now=copy.deepcopy(nw)\n",
        "  temp=now[i][j+1]\n",
        "  now[i][j+1]=now[i][j]\n",
        "  now[i][j]=temp\n",
        "  open_list.put((heuristic(now),now))\n",
        "\n",
        "def possibleiter(now):\n",
        "  global cost\n",
        "  cost=cost+1\n",
        "  for i in range(len(now)):\n",
        "    for j in range(len(now)):\n",
        "      if now[i][j]==0:\n",
        "        x=i\n",
        "        y=j\n",
        "  if x==0 and y==0:\n",
        "    right(now,x,y)\n",
        "    down(now,x,y)\n",
        "  if x==0 and y==1:\n",
        "    left(now,x,y)\n",
        "    right(now,x,y)\n",
        "    down(now,x,y)\n",
        "  if x==0 and y==2:\n",
        "    left(now,x,y)\n",
        "    down(now,x,y)\n",
        "  if x==1 and y==0:\n",
        "    right(now,x,y)\n",
        "    down(now,x,y)\n",
        "    up(now,x,y)\n",
        "  if x==1 and y==1:\n",
        "    left(now,x,y)\n",
        "    right(now,x,y)\n",
        "    down(now,x,y)\n",
        "    up(now,x,y)\n",
        "  if x==1 and y==2:\n",
        "    down(now,x,y)\n",
        "    up(now,x,y)\n",
        "    left(now,x,y)\n",
        "  if x==2 and y==0:\n",
        "    right(now,x,y)\n",
        "    up(now,x,y)\n",
        "  if x==2 and y==1:\n",
        "    left(now,x,y)\n",
        "    right(now,x,y)\n",
        "    up(now,x,y)\n",
        "  if x==2 and y==2:\n",
        "    left(now,x,y)\n",
        "    up(now,x,y)\n",
        "def astar(goal):\n",
        "    open_list.put((0,initial))\n",
        "    while open_list.empty()==False:\n",
        "        heu_cost,now=open_list.get()\n",
        "        if now==goal:\n",
        "            print(\"min cost required is\",cost)\n",
        "            break\n",
        "        closed_list.append(now)\n",
        "        possibleiter(now)\n",
        "astar(goal)\n",
        "print(closed_list)\n"
      ],
      "metadata": {
        "colab": {
          "base_uri": "https://localhost:8080/"
        },
        "id": "G4qEAcV17WQt",
        "outputId": "ae92ddcd-6e1e-4679-d9b3-707b7175143d"
      },
      "execution_count": 17,
      "outputs": [
        {
          "output_type": "stream",
          "name": "stdout",
          "text": [
            "min cost required is 3\n",
            "[[[1, 2, 3], [5, 6, 0], [7, 8, 4]], [[1, 2, 3], [5, 0, 6], [7, 8, 4]], [[1, 2, 3], [5, 8, 6], [7, 0, 4]]]\n"
          ]
        }
      ]
    },
    {
      "cell_type": "markdown",
      "source": [
        "**AO* ALGORITHM**"
      ],
      "metadata": {
        "id": "aCOEoYeK9pOk"
      }
    },
    {
      "cell_type": "code",
      "source": [
        "def Cost(H, condition, weight = 1):\n",
        "\tcost = {}\n",
        "\tif 'AND' in condition:\n",
        "\t\tAND_nodes = condition['AND']\n",
        "\t\tPath_A = ' AND '.join(AND_nodes)\n",
        "\t\tPathA = sum(H[node]+weight for node in AND_nodes)\n",
        "\t\tcost[Path_A] = PathA\n",
        "\n",
        "\tif 'OR' in condition:\n",
        "\t\tOR_nodes = condition['OR']\n",
        "\t\tPath_B =' OR '.join(OR_nodes)\n",
        "\t\tPathB = min(H[node]+weight for node in OR_nodes)\n",
        "\t\tcost[Path_B] = PathB\n",
        "\treturn cost\n",
        "\n",
        "def update_cost(H, Conditions, weight=1):\n",
        "\tMain_nodes = list(Conditions.keys())\n",
        "\tMain_nodes.reverse()\n",
        "\tleast_cost= {}\n",
        "\tfor key in Main_nodes:\n",
        "\t\tcondition = Conditions[key]\n",
        "\t\tprint(key,':', Conditions[key],'>>>', Cost(H, condition, weight))\n",
        "\t\tc = Cost(H, condition, weight)\n",
        "\t\tH[key] = min(c.values())\n",
        "\t\tleast_cost[key] = Cost(H, condition, weight)\n",
        "\treturn least_cost\n",
        "\n",
        "def shortest_path(Start,Updated_cost, H):\n",
        "\tPath = Start\n",
        "\tif Start in Updated_cost.keys():\n",
        "\t\tMin_cost = min(Updated_cost[Start].values())\n",
        "\t\tkey = list(Updated_cost[Start].keys())\n",
        "\t\tvalues = list(Updated_cost[Start].values())\n",
        "\t\tIndex = values.index(Min_cost)\n",
        "\n",
        "\t\t# FIND MINIMIMUM PATH KEY\n",
        "\t\tNext = key[Index].split()\n",
        "\t\t# ADD TO PATH FOR OR PATH\n",
        "\t\tif len(Next) == 1:\n",
        "\t\t\tStart =Next[0]\n",
        "\t\t\tPath += '<--' +shortest_path(Start, Updated_cost, H)\n",
        "\t\t# ADD TO PATH FOR AND PATH\n",
        "\t\telse:\n",
        "\t\t\tPath +='<--('+key[Index]+') '\n",
        "\t\t\tStart = Next[0]\n",
        "\t\t\tPath += '[' +shortest_path(Start, Updated_cost, H) + '+'\n",
        "\t\t\tStart = Next[-1]\n",
        "\t\t\tPath += shortest_path(Start, Updated_cost, H) + ']'\n",
        "\n",
        "\treturn Path\n",
        "H = {'A': -1, 'B': 5, 'C': 2, 'D': 4, 'E': 7, 'F': 9, 'G': 3, 'H': 0, 'I':0, 'J':0}\n",
        "Conditions = {\n",
        "'A': {'OR': ['B'], 'AND': ['C', 'D']},\n",
        "'B': {'OR': ['E', 'F']},\n",
        "'C': {'OR': ['G'], 'AND': ['H', 'I']},\n",
        "'D': {'OR': ['J']}\n",
        "}\n",
        "weight = 1\n",
        "print('Updated Cost :')\n",
        "Updated_cost = update_cost(H, Conditions, weight=1)\n",
        "print('*'*75)\n",
        "print('Shortest Path :\\n',shortest_path('A', Updated_cost,H))\n"
      ],
      "metadata": {
        "colab": {
          "base_uri": "https://localhost:8080/"
        },
        "id": "eyLj_hvH7hFX",
        "outputId": "4bdcdfbd-e9a5-47d5-bf11-7457b100e30d"
      },
      "execution_count": 18,
      "outputs": [
        {
          "output_type": "stream",
          "name": "stdout",
          "text": [
            "Updated Cost :\n",
            "D : {'OR': ['J']} >>> {'J': 1}\n",
            "C : {'OR': ['G'], 'AND': ['H', 'I']} >>> {'H AND I': 2, 'G': 4}\n",
            "B : {'OR': ['E', 'F']} >>> {'E OR F': 8}\n",
            "A : {'OR': ['B'], 'AND': ['C', 'D']} >>> {'C AND D': 5, 'B': 9}\n",
            "***************************************************************************\n",
            "Shortest Path :\n",
            " A<--(C AND D) [C<--(H AND I) [H+I]+D<--J]\n"
          ]
        }
      ]
    },
    {
      "cell_type": "markdown",
      "source": [
        "**MINIMAX ALGORITHM**"
      ],
      "metadata": {
        "id": "GYfSlXwu93o0"
      }
    },
    {
      "cell_type": "code",
      "source": [
        "import math\n",
        "def minimax (curDepth,maxTurn, scores,targetDepth):\n",
        "  if (curDepth == targetDepth):\n",
        "    if(maxTurn):\n",
        "      return max(scores)\n",
        "    else:\n",
        "      return min(scores)\n",
        "  if (maxTurn):\n",
        "    maxnow=float('-inf')\n",
        "    for i in scores:\n",
        "      maxnow=max(maxnow,minimax(curDepth + 1,False, i, targetDepth))\n",
        "    return maxnow\n",
        "  else:\n",
        "    minnow=float('inf')\n",
        "    for i in scores:\n",
        "      minnow=min(minnow,minimax(curDepth + 1,True, i, targetDepth))\n",
        "    return minnow\n",
        "scores = [[[2,3],[4,5],[6,7]],[[8,9],[10,11]]]\n",
        "treeDepth = 3\n",
        "print(\"The optimal value is : \", end = \"\")\n",
        "print(minimax(1, True, scores, treeDepth))\n"
      ],
      "metadata": {
        "colab": {
          "base_uri": "https://localhost:8080/"
        },
        "id": "pGsFZZJA7nRN",
        "outputId": "f6df75fe-9755-4681-c712-1974b248cf30"
      },
      "execution_count": 19,
      "outputs": [
        {
          "output_type": "stream",
          "name": "stdout",
          "text": [
            "The optimal value is : 9\n"
          ]
        }
      ]
    },
    {
      "cell_type": "markdown",
      "source": [
        "**ALPHA BETA PRUNING**"
      ],
      "metadata": {
        "id": "1kEQQWDn97JU"
      }
    },
    {
      "cell_type": "code",
      "source": [
        "import math\n",
        "path=[]\n",
        "def minimax (curDepth,maxTurn, scores,targetDepth,alpha,beta):\n",
        "  if (curDepth == targetDepth):\n",
        "    if(maxTurn):\n",
        "      path.append(scores)\n",
        "      return max(scores)\n",
        "    else:\n",
        "      path.append(scores)\n",
        "      return min(scores)\n",
        "  if (maxTurn):\n",
        "    maxnow=float('-inf')\n",
        "    for i in scores:\n",
        "      maxnow=max(maxnow,minimax(curDepth + 1,False, i, targetDepth,alpha,beta))\n",
        "      alpha=max(alpha,maxnow)\n",
        "      if beta<=alpha:\n",
        "        break\n",
        "    return maxnow\n",
        "  else:\n",
        "    minnow=float('inf')\n",
        "    for i in scores:\n",
        "      minnow=min(minnow,minimax(curDepth + 1,True, i, targetDepth,alpha,beta))\n",
        "      beta=min(beta,minnow)\n",
        "      if beta<=alpha:\n",
        "        break\n",
        "    return minnow\n",
        "scores = [[[8,9],[10,11]],[[4,5],[6,7],[2,3]]]\n",
        "treeDepth = 3\n",
        "print(\"The optimal value is : \", end = \"\")\n",
        "alpha=float('-inf')\n",
        "beta=float('inf')\n",
        "print(minimax(1, True, scores, treeDepth,alpha,beta))\n",
        "print(path)\n"
      ],
      "metadata": {
        "colab": {
          "base_uri": "https://localhost:8080/"
        },
        "id": "pVgzKMzH7r3l",
        "outputId": "3cde9947-5208-4951-cc21-7a421ae11147"
      },
      "execution_count": 20,
      "outputs": [
        {
          "output_type": "stream",
          "name": "stdout",
          "text": [
            "The optimal value is : 9\n",
            "[[8, 9], [10, 11], [4, 5]]\n"
          ]
        }
      ]
    },
    {
      "cell_type": "markdown",
      "source": [
        "**CRYPTARITHMETIC PROBLEM**"
      ],
      "metadata": {
        "id": "FyFpP5tf9_J2"
      }
    },
    {
      "cell_type": "code",
      "source": [
        "import itertools\n",
        "def get_value(word, substitution):\n",
        "    s = 0\n",
        "    factor = 1\n",
        "    for letter in reversed(word):\n",
        "        s += factor * substitution[letter]\n",
        "        factor *= 10\n",
        "    return s\n",
        "def solve2(equation):\n",
        "    left, right = equation.lower().replace(' ', '').split('=')\n",
        "    left = left.split('+')\n",
        "    letters = set(right)\n",
        "    for word in left:\n",
        "        for letter in word:\n",
        "            letters.add(letter)\n",
        "    letters = list(letters)\n",
        "    digits = range(10)\n",
        "    for perm in itertools.permutations(digits, len(letters)):\n",
        "        sol = dict(zip(letters, perm))\n",
        "        if sum(get_value(word, sol) for word in left) == get_value(right, sol):\n",
        "            print(' + '.join(str(get_value(word, sol)) for word in left) + \" = {} (mapping: {})\".format(get_value(right, sol), sol))\n",
        "solve2('SEND + MORE = MONEY')\n"
      ],
      "metadata": {
        "colab": {
          "base_uri": "https://localhost:8080/"
        },
        "id": "WWV-UC687v-1",
        "outputId": "af180105-79b3-4a49-89c9-af8259dbd2f2"
      },
      "execution_count": 21,
      "outputs": [
        {
          "output_type": "stream",
          "name": "stdout",
          "text": [
            "6853 + 728 = 7581 (mapping: {'m': 0, 'y': 1, 'd': 3, 's': 6, 'o': 7, 'e': 8, 'n': 5, 'r': 2})\n",
            "6419 + 724 = 7143 (mapping: {'m': 0, 'y': 3, 'd': 9, 's': 6, 'o': 7, 'e': 4, 'n': 1, 'r': 2})\n",
            "7429 + 814 = 8243 (mapping: {'m': 0, 'y': 3, 'd': 9, 's': 7, 'o': 8, 'e': 4, 'n': 2, 'r': 1})\n",
            "7539 + 815 = 8354 (mapping: {'m': 0, 'y': 4, 'd': 9, 's': 7, 'o': 8, 'e': 5, 'n': 3, 'r': 1})\n",
            "2817 + 368 = 3185 (mapping: {'m': 0, 'y': 5, 'd': 7, 's': 2, 'o': 3, 'e': 8, 'n': 1, 'r': 6})\n",
            "7649 + 816 = 8465 (mapping: {'m': 0, 'y': 5, 'd': 9, 's': 7, 'o': 8, 'e': 6, 'n': 4, 'r': 1})\n",
            "7531 + 825 = 8356 (mapping: {'m': 0, 'y': 6, 'd': 1, 's': 7, 'o': 8, 'e': 5, 'n': 3, 'r': 2})\n",
            "8432 + 914 = 9346 (mapping: {'m': 0, 'y': 6, 'd': 2, 's': 8, 'o': 9, 'e': 4, 'n': 3, 'r': 1})\n",
            "3719 + 457 = 4176 (mapping: {'m': 0, 'y': 6, 'd': 9, 's': 3, 'o': 4, 'e': 7, 'n': 1, 'r': 5})\n",
            "8542 + 915 = 9457 (mapping: {'m': 0, 'y': 7, 'd': 2, 's': 8, 'o': 9, 'e': 5, 'n': 4, 'r': 1})\n",
            "8324 + 913 = 9237 (mapping: {'m': 0, 'y': 7, 'd': 4, 's': 8, 'o': 9, 'e': 3, 'n': 2, 'r': 1})\n",
            "2819 + 368 = 3187 (mapping: {'m': 0, 'y': 7, 'd': 9, 's': 2, 'o': 3, 'e': 8, 'n': 1, 'r': 6})\n",
            "3829 + 458 = 4287 (mapping: {'m': 0, 'y': 7, 'd': 9, 's': 3, 'o': 4, 'e': 8, 'n': 2, 'r': 5})\n",
            "5849 + 638 = 6487 (mapping: {'m': 0, 'y': 7, 'd': 9, 's': 5, 'o': 6, 'e': 8, 'n': 4, 'r': 3})\n",
            "5731 + 647 = 6378 (mapping: {'m': 0, 'y': 8, 'd': 1, 's': 5, 'o': 6, 'e': 7, 'n': 3, 'r': 4})\n",
            "3821 + 468 = 4289 (mapping: {'m': 0, 'y': 9, 'd': 1, 's': 3, 'o': 4, 'e': 8, 'n': 2, 'r': 6})\n",
            "6851 + 738 = 7589 (mapping: {'m': 0, 'y': 9, 'd': 1, 's': 6, 'o': 7, 'e': 8, 'n': 5, 'r': 3})\n",
            "3712 + 467 = 4179 (mapping: {'m': 0, 'y': 9, 'd': 2, 's': 3, 'o': 4, 'e': 7, 'n': 1, 'r': 6})\n",
            "5732 + 647 = 6379 (mapping: {'m': 0, 'y': 9, 'd': 2, 's': 5, 'o': 6, 'e': 7, 'n': 3, 'r': 4})\n",
            "7643 + 826 = 8469 (mapping: {'m': 0, 'y': 9, 'd': 3, 's': 7, 'o': 8, 'e': 6, 'n': 4, 'r': 2})\n",
            "6524 + 735 = 7259 (mapping: {'m': 0, 'y': 9, 'd': 4, 's': 6, 'o': 7, 'e': 5, 'n': 2, 'r': 3})\n",
            "7534 + 825 = 8359 (mapping: {'m': 0, 'y': 9, 'd': 4, 's': 7, 'o': 8, 'e': 5, 'n': 3, 'r': 2})\n",
            "6415 + 734 = 7149 (mapping: {'m': 0, 'y': 9, 'd': 5, 's': 6, 'o': 7, 'e': 4, 'n': 1, 'r': 3})\n",
            "7316 + 823 = 8139 (mapping: {'m': 0, 'y': 9, 'd': 6, 's': 7, 'o': 8, 'e': 3, 'n': 1, 'r': 2})\n",
            "9567 + 1085 = 10652 (mapping: {'m': 1, 'y': 2, 'd': 7, 's': 9, 'o': 0, 'e': 5, 'n': 6, 'r': 8})\n"
          ]
        }
      ]
    }
  ]
}